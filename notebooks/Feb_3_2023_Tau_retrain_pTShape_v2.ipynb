{
 "cells": [
  {
   "cell_type": "code",
   "execution_count": 1,
   "metadata": {},
   "outputs": [
    {
     "name": "stderr",
     "output_type": "stream",
     "text": [
      "2023-02-03 16:04:00.612419: I tensorflow/core/platform/cpu_feature_guard.cc:193] This TensorFlow binary is optimized with oneAPI Deep Neural Network Library (oneDNN) to use the following CPU instructions in performance-critical operations:  AVX2 AVX512F AVX512_VNNI FMA\n",
      "To enable them in other operations, rebuild TensorFlow with the appropriate compiler flags.\n",
      "2023-02-03 16:04:00.799284: I tensorflow/core/util/port.cc:104] oneDNN custom operations are on. You may see slightly different numerical results due to floating-point round-off errors from different computation orders. To turn them off, set the environment variable `TF_ENABLE_ONEDNN_OPTS=0`.\n",
      "2023-02-03 16:04:01.765705: W tensorflow/compiler/xla/stream_executor/platform/default/dso_loader.cc:64] Could not load dynamic library 'libnvinfer.so.7'; dlerror: libnvrtc.so.11.1: cannot open shared object file: No such file or directory\n",
      "2023-02-03 16:04:01.767006: W tensorflow/compiler/xla/stream_executor/platform/default/dso_loader.cc:64] Could not load dynamic library 'libnvinfer_plugin.so.7'; dlerror: libnvrtc.so.11.1: cannot open shared object file: No such file or directory\n",
      "2023-02-03 16:04:01.767024: W tensorflow/compiler/tf2tensorrt/utils/py_utils.cc:38] TF-TRT Warning: Cannot dlopen some TensorRT libraries. If you would like to use Nvidia GPU with TensorRT, please make sure the missing libraries mentioned above are installed properly.\n"
     ]
    }
   ],
   "source": [
    "#Import stuff\n",
    "import uproot4\n",
    "import numpy as np\n",
    "import awkward as ak\n",
    "from scipy.stats import norm\n",
    "from scipy.optimize import curve_fit\n",
    "import os\n",
    "import copy\n",
    "\n",
    "import tensorflow.keras as keras\n",
    "import tensorflow as tf\n",
    "import tensorflow_probability as tfp\n",
    "\n",
    "from sklearn.model_selection import train_test_split\n",
    "from tensorflow.keras.layers import *\n",
    "from tensorflow.keras.models import Model, Sequential, load_model\n",
    "\n",
    "from sklearn.metrics import roc_curve\n",
    "from sklearn.metrics import auc\n",
    "from sklearn.model_selection import train_test_split\n",
    "\n",
    "import optparse\n",
    "import importlib\n",
    "import pathlib\n",
    "from keras import optimizers\n",
    "from keras.losses import binary_crossentropy\n",
    "\n",
    "\n",
    "import hist\n",
    "from hist import Hist\n",
    "\n",
    "%matplotlib inline\n",
    "import matplotlib.pyplot as plt\n",
    "import matplotlib.colors as colors\n",
    "import mplhep as hep\n",
    "plt.style.use(hep.style.ROOT)\n",
    "\n",
    "import matplotlib.pylab as pylab\n",
    "params = {'legend.fontsize': 'medium',\n",
    "         'axes.labelsize': 'x-large',\n",
    "         'axes.titlesize':'x-large',\n",
    "         'xtick.labelsize':'medium',\n",
    "         'ytick.labelsize':'medium'}\n",
    "pylab.rcParams.update(params)\n",
    "\n",
    "#line thickness\n",
    "import matplotlib as mpl\n",
    "mpl.rcParams['lines.linewidth'] = 5\n",
    "\n",
    "gpus = tf.config.experimental.list_physical_devices('GPU')\n",
    "if gpus:\n",
    "    try:\n",
    "        tf.config.experimental.set_virtual_device_configuration(\n",
    "            gpus[0],[tf.config.experimental.VirtualDeviceConfiguration(memory_limit=500)])\n",
    "    except RuntimeError as e:\n",
    "        print(e)"
   ]
  },
  {
   "cell_type": "code",
   "execution_count": 2,
   "metadata": {},
   "outputs": [],
   "source": [
    "def make_weights(reco_sig_pt, reco_qcd_pt):\n",
    "    \n",
    "    pt_edges = [20,25,30,35,40,45,50,55,60,70,80,100,125,150,200,2000]\n",
    "    weight_pt_qcd = np.zeros(reco_qcd_pt.shape)\n",
    "    \n",
    "    sig_hist, sig_bin_edges = np.histogram(reco_sig_pt, bins = pt_edges)\n",
    "    qcd_hist, qcd_bin_edges = np.histogram(reco_qcd_pt, bins = pt_edges)\n",
    "    \n",
    "    scale_factor = [sig_hist[i]/qcd_hist[i] for i in range(len(sig_bin_edges)-1)]\n",
    "    \n",
    "    #Assign the weights to qcd jets\n",
    "    for i in range(len(sig_bin_edges)-1):\n",
    "        weight_pt_qcd[(reco_qcd_pt >= sig_bin_edges[i]) & (reco_qcd_pt < sig_bin_edges[i+1])] = scale_factor[i]\n",
    "    \n",
    "    weight_pt_sig = np.ones(reco_sig_pt.shape)\n",
    "    all_weight = np.concatenate([weight_pt_sig, weight_pt_qcd])\n",
    "    \n",
    "    return all_weight\n",
    "\n",
    "#Might have to change the version for other ntuple files\n",
    "sig = uproot4.open(\"../ntuples/Jan_25_2023/test_sig_v11.root\")\n",
    "bkg = uproot4.open(\"../ntuples/Jan_25_2023/test_bkg_v11.root\")\n",
    "qcd = uproot4.open(\"../ntuples/Jan_25_2023/test_qcd_v11.root\")\n",
    "\n",
    "sig_input = sig['ntuplePupSingle']['tree']['m_inputs'].array()[:400000]\n",
    "bkg_input = bkg['ntuplePupSingle']['tree']['m_inputs'].array()[:400000]\n",
    "qcd_input = qcd['ntuplePupSingle']['tree']['m_inputs'].array()\n",
    "\n",
    "truth_pt_sig = sig['ntuplePupSingle']['tree']['genpt1'].array()[:400000]\n",
    "reco_pt_sig = sig['ntuplePupSingle']['tree']['pt'].array()[:400000]\n",
    "deltaR_sig = sig['ntuplePupSingle']['tree']['gendr1'].array()[:400000]\n",
    "eta_sig = sig['ntuplePupSingle']['tree']['geneta1'].array()[:400000]\n",
    "selection_sig = (truth_pt_sig > 20.) & (abs(deltaR_sig) < 0.4) & (abs(eta_sig) < 2.4)\n",
    "\n",
    "reco_pt_bkg = bkg['ntuplePupSingle']['tree']['pt'].array()[:400000]\n",
    "selection_bkg = reco_pt_bkg > 20.\n",
    "\n",
    "reco_pt_qcd = qcd['ntuplePupSingle']['tree']['pt'].array()\n",
    "selection_qcd = reco_pt_qcd > 20.\n",
    "\n",
    "#Maybe better to use 2.4 for eta\n",
    "\n",
    "#Inputs: pt, eta, phi, particle id(one hot encoded)\n",
    "X_sig = np.nan_to_num(np.asarray(sig_input[selection_sig]))\n",
    "y_sig = np.full(X_sig.shape[0], 1.)\n",
    "sig_pt = np.asarray(truth_pt_sig[selection_sig])\n",
    "\n",
    "X_bkg = np.nan_to_num(np.asarray(bkg_input)[selection_bkg])\n",
    "y_bkg = np.full(X_bkg.shape[0], 0.)\n",
    "bkg_pt = np.asarray(reco_pt_bkg[selection_bkg])\n",
    "\n",
    "X_qcd = np.nan_to_num(np.asarray(qcd_input)[selection_qcd])\n",
    "y_qcd = np.full(X_qcd.shape[0], 0.)\n",
    "qcd_pt = np.asarray(reco_pt_qcd[selection_qcd])\n",
    "\n",
    "background_pt = np.concatenate([bkg_pt, qcd_pt])\n",
    "\n",
    "X_train = np.concatenate([X_sig, X_bkg, X_qcd])\n",
    "y_train = np.concatenate([y_sig, y_bkg, y_qcd])\n",
    "pt_array = np.concatenate([sig_pt, bkg_pt, qcd_pt])\n",
    "sample_weight = make_weights(sig_pt, background_pt)\n",
    "\n",
    "X_train[abs(X_train) > 1e+4] = 0.\n",
    "\n",
    "assert not np.any(np.isnan(X_train))\n",
    "assert not np.any(np.isnan(y_train))"
   ]
  },
  {
   "cell_type": "code",
   "execution_count": 3,
   "metadata": {},
   "outputs": [
    {
     "data": {
      "text/plain": [
       "(array([6622.        , 7787.        , 8005.        , 7784.        ,\n",
       "        7406.        , 6842.        , 6001.        , 5273.        ,\n",
       "        8839.00000001, 6426.00000001, 8002.99999999, 4919.99999998,\n",
       "        2302.99999999, 1673.99999999,  769.00000002]),\n",
       " array([  20.,   25.,   30.,   35.,   40.,   45.,   50.,   55.,   60.,\n",
       "          70.,   80.,  100.,  125.,  150.,  200., 2000.]),\n",
       " <BarContainer object of 15 artists>)"
      ]
     },
     "execution_count": 3,
     "metadata": {},
     "output_type": "execute_result"
    },
    {
     "data": {
      "image/png": "[encoded data removed]",
      "text/plain": [
       "<Figure size 1000x1000 with 1 Axes>"
      ]
     },
     "metadata": {},
     "output_type": "display_data"
    }
   ],
   "source": [
    "#Check the distributions\n",
    "pt_edges = [20,25,30,35,40,45,50,55,60,70,80,100,125,150,200,2000]\n",
    "plt.hist(sig_pt, bins = pt_edges, alpha=0.4)\n",
    "plt.hist(background_pt, bins = pt_edges, alpha=0.4, weights=sample_weight[-len(background_pt):])"
   ]
  },
  {
   "cell_type": "code",
   "execution_count": 4,
   "metadata": {},
   "outputs": [
    {
     "name": "stdout",
     "output_type": "stream",
     "text": [
      "Model: \"sequential\"\n",
      "_________________________________________________________________\n",
      " Layer (type)                Output Shape              Param #   \n",
      "=================================================================\n",
      " dense (Dense)               (None, 25)                2025      \n",
      "                                                                 \n",
      " dense_1 (Dense)             (None, 10)                260       \n",
      "                                                                 \n",
      " dense_2 (Dense)             (None, 10)                110       \n",
      "                                                                 \n",
      " dense_3 (Dense)             (None, 1)                 11        \n",
      "                                                                 \n",
      "=================================================================\n",
      "Total params: 2,406\n",
      "Trainable params: 2,406\n",
      "Non-trainable params: 0\n",
      "_________________________________________________________________\n"
     ]
    },
    {
     "name": "stderr",
     "output_type": "stream",
     "text": [
      "2023-02-03 16:04:50.159531: I tensorflow/core/platform/cpu_feature_guard.cc:193] This TensorFlow binary is optimized with oneAPI Deep Neural Network Library (oneDNN) to use the following CPU instructions in performance-critical operations:  AVX2 AVX512F AVX512_VNNI FMA\n",
      "To enable them in other operations, rebuild TensorFlow with the appropriate compiler flags.\n",
      "2023-02-03 16:04:51.326844: I tensorflow/core/common_runtime/gpu/gpu_device.cc:1613] Created device /job:localhost/replica:0/task:0/device:GPU:0 with 500 MB memory:  -> device: 0, name: NVIDIA A30, pci bus id: 0000:65:00.0, compute capability: 8.0\n",
      "2023-02-03 16:04:51.328642: I tensorflow/core/common_runtime/gpu/gpu_device.cc:1613] Created device /job:localhost/replica:0/task:0/device:GPU:1 with 22124 MB memory:  -> device: 1, name: NVIDIA A30, pci bus id: 0000:ca:00.0, compute capability: 8.0\n"
     ]
    }
   ],
   "source": [
    "model = Sequential()\n",
    "model.add(Dense(25, activation = 'relu', input_shape=X_train.shape[1:]))\n",
    "model.add(Dense(10, activation = 'relu'))\n",
    "model.add(Dense(10, activation = 'relu'))\n",
    "model.add(Dense(1, activation='sigmoid'))\n",
    "\n",
    "optimizer = optimizers.Adam()\n",
    "model.compile(loss='binary_crossentropy',optimizer=optimizer, metrics=['binary_accuracy'], weighted_metrics=[])\n",
    "\n",
    "model.summary()"
   ]
  },
  {
   "cell_type": "code",
   "execution_count": 5,
   "metadata": {},
   "outputs": [
    {
     "name": "stdout",
     "output_type": "stream",
     "text": [
      "Epoch 1/50\n"
     ]
    },
    {
     "name": "stderr",
     "output_type": "stream",
     "text": [
      "2023-02-03 16:06:01.856603: I tensorflow/compiler/xla/stream_executor/cuda/cuda_blas.cc:630] TensorFloat-32 will be used for the matrix multiplication. This will only be logged once.\n"
     ]
    },
    {
     "name": "stdout",
     "output_type": "stream",
     "text": [
      "4677/4677 - 30s - loss: 0.2017 - binary_accuracy: 0.8533 - val_loss: 0.0951 - val_binary_accuracy: 0.9019 - 30s/epoch - 6ms/step\n",
      "Epoch 2/50\n",
      "4677/4677 - 8s - loss: 0.1900 - binary_accuracy: 0.8600 - val_loss: 0.1103 - val_binary_accuracy: 0.8825 - 8s/epoch - 2ms/step\n",
      "Epoch 3/50\n",
      "4677/4677 - 8s - loss: 0.1866 - binary_accuracy: 0.8623 - val_loss: 0.1349 - val_binary_accuracy: 0.8633 - 8s/epoch - 2ms/step\n",
      "Epoch 4/50\n",
      "4677/4677 - 8s - loss: 0.1844 - binary_accuracy: 0.8633 - val_loss: 0.1165 - val_binary_accuracy: 0.8841 - 8s/epoch - 2ms/step\n",
      "Epoch 5/50\n",
      "4677/4677 - 14s - loss: 0.1824 - binary_accuracy: 0.8645 - val_loss: 0.1116 - val_binary_accuracy: 0.8872 - 14s/epoch - 3ms/step\n",
      "Epoch 6/50\n",
      "4677/4677 - 12s - loss: 0.1814 - binary_accuracy: 0.8648 - val_loss: 0.1219 - val_binary_accuracy: 0.8746 - 12s/epoch - 3ms/step\n",
      "Epoch 6: early stopping\n"
     ]
    },
    {
     "data": {
      "text/plain": [
       "<keras.callbacks.History at 0x7ff71df5bf10>"
      ]
     },
     "execution_count": 5,
     "metadata": {},
     "output_type": "execute_result"
    }
   ],
   "source": [
    "#Train the network\n",
    "callback = tf.keras.callbacks.EarlyStopping(monitor='val_loss', verbose=1, patience=5)\n",
    " \n",
    "model.fit(X_train, y_train,\n",
    "          sample_weight=sample_weight,\n",
    "          epochs=50,\n",
    "          batch_size=50,\n",
    "          verbose=2,\n",
    "          validation_split=0.20,\n",
    "          callbacks=[callback])"
   ]
  },
  {
   "cell_type": "code",
   "execution_count": 6,
   "metadata": {},
   "outputs": [],
   "source": [
    "#Save the model\n",
    "model.save('../models/L1Tau_Feb_3_2023_pTShape_v1_PtTruthCut.h5')"
   ]
  },
  {
   "cell_type": "markdown",
   "metadata": {},
   "source": [
    "## Efficiency on training set"
   ]
  },
  {
   "cell_type": "code",
   "execution_count": null,
   "metadata": {},
   "outputs": [],
   "source": [
    "def score_transform(iso, pt):\n",
    "    \n",
    "    PFTAU_NN_OFFSET = 0.1\n",
    "    PFTAU_NN_SLOPE = 0.2\n",
    "    PFTAU_NN_OVERALL_SCALE = 1. / 20.1\n",
    "\n",
    "    PFTAU_NN_LOOSE_CUT = 0.05\n",
    "    PFTAU_NN_TIGHT_CUT = 0.25\n",
    "\n",
    "    PFTAU_NN_PT_CUTOFF = 100.0\n",
    "    \n",
    "    return iso*(PFTAU_NN_OFFSET + PFTAU_NN_SLOPE*(np.minimum(pt, np.asarray([PFTAU_NN_PT_CUTOFF]))))*PFTAU_NN_OVERALL_SCALE"
   ]
  },
  {
   "cell_type": "code",
   "execution_count": null,
   "metadata": {},
   "outputs": [],
   "source": [
    "sig = uproot4.open(\"../ntuples/Jan_25_2023/test_sig_v11.root\")\n",
    "truth_tau_pt = sig['ntuplePupSingle']['tree']['genpt1'].array()[:400000]\n",
    "reco_tau_pt = sig['ntuplePupSingle']['tree']['pt'].array()[:400000]\n",
    "\n",
    "#Load model and select out the tau\n",
    "model = load_model('../models/L1Tau_Jan_25_2023_Corr.h5', compile=False)\n",
    "\n",
    "#Get all the inputs\n",
    "sig_input = sig['ntuplePupSingle']['tree']['m_inputs'].array()[:400000]\n",
    "\n",
    "pt_sig = sig['ntuplePupSingle']['tree']['genpt1'].array()[:400000]\n",
    "deltaR_sig = sig['ntuplePupSingle']['tree']['gendr1'].array()[:400000]\n",
    "eta_sig = sig['ntuplePupSingle']['tree']['geneta1'].array()[:400000]\n",
    "\n",
    "selection_sig = (pt_sig > 20) & (abs(deltaR_sig) < 0.4) & (abs(eta_sig) < 2.4)\n",
    "\n",
    "#Selected out the tau pt with the basic cuts first\n",
    "truth_tau_pt_select = truth_tau_pt[selection_sig]\n",
    "reco_tau_pt_select = reco_tau_pt[selection_sig]"
   ]
  },
  {
   "cell_type": "code",
   "execution_count": null,
   "metadata": {},
   "outputs": [],
   "source": [
    "X_sig = np.asarray(sig_input[selection_sig])\n",
    "y_sig_model = model.predict(np.nan_to_num(X_sig))"
   ]
  },
  {
   "cell_type": "code",
   "execution_count": null,
   "metadata": {},
   "outputs": [],
   "source": [
    "y_sig = score_transform(np.asarray(y_sig_model).flatten(), np.asarray(reco_tau_pt_select).flatten())"
   ]
  },
  {
   "cell_type": "code",
   "execution_count": null,
   "metadata": {},
   "outputs": [],
   "source": [
    "nn_cut = y_sig_model.flatten() > 0.05"
   ]
  },
  {
   "cell_type": "code",
   "execution_count": null,
   "metadata": {},
   "outputs": [],
   "source": [
    "tau_pt_nn = np.asarray(truth_tau_pt_select)[nn_cut]\n",
    "\n",
    "#Old nn\n",
    "old_tau_select = np.asarray(sig['ntuplePupSingle']['tree']['passLoose'].array()[:400000][selection_sig])\n",
    "tau_pt_old_nn = truth_tau_pt_select[old_tau_select == 1]\n",
    "\n",
    "#Fill two plots and divide the two.\n",
    "pT_egdes = [0,10,15,20,25,30,35,40,45,50,55,60,70,80,100,125,150] #200?\n",
    "pT_axis = hist.axis.Variable(pT_egdes, name = r\"$\\tau_h$ $p_T$\")\n",
    "\n",
    "hist_all_tau = Hist(pT_axis)\n",
    "hist_selected_tau = Hist(pT_axis)\n",
    "hist_selected_old_tau = Hist(pT_axis)\n",
    "\n",
    "hist_all_tau.fill(truth_tau_pt_select)\n",
    "hist_selected_tau.fill(tau_pt_nn)\n",
    "hist_selected_old_tau.fill(tau_pt_old_nn)"
   ]
  },
  {
   "cell_type": "code",
   "execution_count": null,
   "metadata": {},
   "outputs": [],
   "source": [
    "fig = plt.figure(figsize=(10, 12))\n",
    "main_ax_artists, eff_new_nn_artists = hist_selected_tau.plot_ratio(\n",
    "    hist_all_tau,\n",
    "    rp_num_label=r\"Selected Taus (New NN Score > 0.5)\",\n",
    "    rp_denom_label=r\"All Taus [abs(gendr1) < 0.4, pt > 20GeV]\",\n",
    "    rp_uncert_draw_type=\"bar\",\n",
    "    rp_uncertainty_type=\"efficiency\",\n",
    ")"
   ]
  },
  {
   "cell_type": "code",
   "execution_count": null,
   "metadata": {},
   "outputs": [],
   "source": [
    "fig = plt.figure(figsize=(10, 12))\n",
    "main_ax_artists, eff_old_nn_artists = hist_selected_old_tau.plot_ratio(\n",
    "    hist_all_tau,\n",
    "    rp_num_label=r\"Selected Taus (Old NN)\",\n",
    "    rp_denom_label=r\"All Taus [abs(gendr1) < 0.4, pt > 20GeV]\",\n",
    "    rp_uncert_draw_type=\"bar\",\n",
    "    rp_uncertainty_type=\"efficiency\",\n",
    ")"
   ]
  },
  {
   "cell_type": "code",
   "execution_count": null,
   "metadata": {},
   "outputs": [],
   "source": [
    "#The real efficiency plot\n",
    "fig = plt.figure()\n",
    "\n",
    "eff_new_nn_x = [eff_new_nn_artists.bar.patches[i].get_x() for i in range(len(eff_new_nn_artists.bar.patches))]\n",
    "eff_new_nn_y = [eff_new_nn_artists.bar.patches[i].get_y() for i in range(len(eff_new_nn_artists.bar.patches))]\n",
    "eff_new_nn_err = eff_new_nn_artists.bar.datavalues\n",
    "\n",
    "eff_old_nn_x = [eff_old_nn_artists.bar.patches[i].get_x() for i in range(len(eff_old_nn_artists.bar.patches))]\n",
    "eff_old_nn_y = [eff_old_nn_artists.bar.patches[i].get_y() for i in range(len(eff_old_nn_artists.bar.patches))]\n",
    "eff_old_nn_err = eff_old_nn_artists.bar.datavalues\n",
    "\n",
    "plt.errorbar(eff_new_nn_x, eff_new_nn_y, yerr=eff_new_nn_err, fmt='o', label = 'Retrained Tau NN')\n",
    "plt.errorbar(eff_old_nn_x, eff_old_nn_y, yerr=eff_old_nn_err, fmt='o', label = 'Old Tau NN')\n",
    "\n",
    "plt.hlines(1, 0, 150, linestyles='dashed', color='black', linewidth=3)\n",
    "plt.ylim([0,1.1])\n",
    "plt.xlim([0,150])\n",
    "plt.xlabel(r\"$\\tau_h$ $p_T^{gen}$ [GeV]\")\n",
    "plt.ylabel(\"Efficiency\")\n",
    "plt.legend(loc = 'center right')\n",
    "plt.show()"
   ]
  },
  {
   "cell_type": "markdown",
   "metadata": {},
   "source": [
    "# Fit a function on this"
   ]
  },
  {
   "cell_type": "code",
   "execution_count": null,
   "metadata": {},
   "outputs": [],
   "source": []
  }
 ],
 "metadata": {
  "kernelspec": {
   "display_name": "Python 3 (ipykernel)",
   "language": "python",
   "name": "python3"
  },
  "language_info": {
   "codemirror_mode": {
    "name": "ipython",
    "version": 3
   },
   "file_extension": ".py",
   "mimetype": "text/x-python",
   "name": "python",
   "nbconvert_exporter": "python",
   "pygments_lexer": "ipython3",
   "version": "3.8.15"
  }
 },
 "nbformat": 4,
 "nbformat_minor": 2
}

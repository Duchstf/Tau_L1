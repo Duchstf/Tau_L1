{
 "cells": [
  {
   "attachments": {},
   "cell_type": "markdown",
   "metadata": {},
   "source": [
    "# Tau PT Regression Notebook"
   ]
  },
  {
   "attachments": {},
   "cell_type": "markdown",
   "metadata": {},
   "source": [
    "In this notebook we will implement a NN to regress the tau's transverse momentum."
   ]
  },
  {
   "cell_type": "code",
   "execution_count": 1,
   "metadata": {},
   "outputs": [
    {
     "name": "stderr",
     "output_type": "stream",
     "text": [
      "2023-06-27 10:57:09.832412: I tensorflow/core/platform/cpu_feature_guard.cc:193] This TensorFlow binary is optimized with oneAPI Deep Neural Network Library (oneDNN) to use the following CPU instructions in performance-critical operations:  AVX2 AVX512F AVX512_VNNI FMA\n",
      "To enable them in other operations, rebuild TensorFlow with the appropriate compiler flags.\n",
      "2023-06-27 10:57:09.967263: I tensorflow/core/util/port.cc:104] oneDNN custom operations are on. You may see slightly different numerical results due to floating-point round-off errors from different computation orders. To turn them off, set the environment variable `TF_ENABLE_ONEDNN_OPTS=0`.\n",
      "2023-06-27 10:57:09.971018: W tensorflow/compiler/xla/stream_executor/platform/default/dso_loader.cc:64] Could not load dynamic library 'libcudart.so.11.0'; dlerror: libcudart.so.11.0: cannot open shared object file: No such file or directory; LD_LIBRARY_PATH: /work/submit/dhoang/DQ/core-inst/lib:/cvmfs/seaquest.opensciencegrid.org/seaquest/software/e1039/share/lib:/cvmfs/seaquest.opensciencegrid.org/seaquest/software/e1039/share/lib64:/e906/app/software/osg/software/e1039/share-20210115/lib:/cvmfs/seaquest.opensciencegrid.org/seaquest/software/e1039/share/lib64:/cvmfs/seaquest.opensciencegrid.org/seaquest/software/e1039/share/root/lib\n",
      "2023-06-27 10:57:09.971031: I tensorflow/compiler/xla/stream_executor/cuda/cudart_stub.cc:29] Ignore above cudart dlerror if you do not have a GPU set up on your machine.\n",
      "2023-06-27 10:57:11.804213: W tensorflow/compiler/xla/stream_executor/platform/default/dso_loader.cc:64] Could not load dynamic library 'libnvinfer.so.7'; dlerror: libnvinfer.so.7: cannot open shared object file: No such file or directory; LD_LIBRARY_PATH: /work/submit/dhoang/DQ/core-inst/lib:/cvmfs/seaquest.opensciencegrid.org/seaquest/software/e1039/share/lib:/cvmfs/seaquest.opensciencegrid.org/seaquest/software/e1039/share/lib64:/e906/app/software/osg/software/e1039/share-20210115/lib:/cvmfs/seaquest.opensciencegrid.org/seaquest/software/e1039/share/lib64:/cvmfs/seaquest.opensciencegrid.org/seaquest/software/e1039/share/root/lib\n",
      "2023-06-27 10:57:11.804325: W tensorflow/compiler/xla/stream_executor/platform/default/dso_loader.cc:64] Could not load dynamic library 'libnvinfer_plugin.so.7'; dlerror: libnvinfer_plugin.so.7: cannot open shared object file: No such file or directory; LD_LIBRARY_PATH: /work/submit/dhoang/DQ/core-inst/lib:/cvmfs/seaquest.opensciencegrid.org/seaquest/software/e1039/share/lib:/cvmfs/seaquest.opensciencegrid.org/seaquest/software/e1039/share/lib64:/e906/app/software/osg/software/e1039/share-20210115/lib:/cvmfs/seaquest.opensciencegrid.org/seaquest/software/e1039/share/lib64:/cvmfs/seaquest.opensciencegrid.org/seaquest/software/e1039/share/root/lib\n",
      "2023-06-27 10:57:11.804333: W tensorflow/compiler/tf2tensorrt/utils/py_utils.cc:38] TF-TRT Warning: Cannot dlopen some TensorRT libraries. If you would like to use Nvidia GPU with TensorRT, please make sure the missing libraries mentioned above are installed properly.\n",
      "2023-06-27 10:57:16.859459: W tensorflow/compiler/xla/stream_executor/platform/default/dso_loader.cc:64] Could not load dynamic library 'libcuda.so.1'; dlerror: libcuda.so.1: cannot open shared object file: No such file or directory; LD_LIBRARY_PATH: /work/submit/dhoang/DQ/core-inst/lib:/cvmfs/seaquest.opensciencegrid.org/seaquest/software/e1039/share/lib:/cvmfs/seaquest.opensciencegrid.org/seaquest/software/e1039/share/lib64:/e906/app/software/osg/software/e1039/share-20210115/lib:/cvmfs/seaquest.opensciencegrid.org/seaquest/software/e1039/share/lib64:/cvmfs/seaquest.opensciencegrid.org/seaquest/software/e1039/share/root/lib\n",
      "2023-06-27 10:57:16.859487: W tensorflow/compiler/xla/stream_executor/cuda/cuda_driver.cc:265] failed call to cuInit: UNKNOWN ERROR (303)\n",
      "2023-06-27 10:57:16.859504: I tensorflow/compiler/xla/stream_executor/cuda/cuda_diagnostics.cc:156] kernel driver does not appear to be running on this host (submit05.mit.edu): /proc/driver/nvidia/version does not exist\n"
     ]
    }
   ],
   "source": [
    "#Import stuff\n",
    "import uproot4\n",
    "import numpy as np\n",
    "import awkward as ak\n",
    "from scipy.stats import norm\n",
    "from scipy.optimize import curve_fit\n",
    "import os\n",
    "import copy\n",
    "\n",
    "import tensorflow.keras as keras\n",
    "import tensorflow as tf\n",
    "from sklearn.model_selection import train_test_split\n",
    "from tensorflow.keras.layers import *\n",
    "from tensorflow.keras.models import Model, Sequential, load_model\n",
    "\n",
    "from sklearn.metrics import roc_curve\n",
    "from sklearn.metrics import auc\n",
    "from sklearn.model_selection import train_test_split\n",
    "\n",
    "import optparse\n",
    "import importlib\n",
    "import pathlib\n",
    "from keras import optimizers\n",
    "\n",
    "\n",
    "import hist\n",
    "from hist import Hist\n",
    "\n",
    "%matplotlib inline\n",
    "import matplotlib.pyplot as plt\n",
    "import matplotlib.colors as colors\n",
    "import mplhep as hep\n",
    "plt.style.use(hep.style.ROOT)\n",
    "\n",
    "import matplotlib.pylab as pylab\n",
    "params = {'legend.fontsize': 'medium',\n",
    "         'axes.labelsize': 'x-large',\n",
    "         'axes.titlesize':'x-large',\n",
    "         'xtick.labelsize':'medium',\n",
    "         'ytick.labelsize':'medium'}\n",
    "pylab.rcParams.update(params)\n",
    "\n",
    "#line thickness\n",
    "import matplotlib as mpl\n",
    "mpl.rcParams['lines.linewidth'] = 5\n",
    "\n",
    "gpus = tf.config.experimental.list_physical_devices('GPU')\n",
    "if gpus:\n",
    "    try:\n",
    "        tf.config.experimental.set_virtual_device_configuration(\n",
    "            gpus[0],[tf.config.experimental.VirtualDeviceConfiguration(memory_limit=500)])\n",
    "    except RuntimeError as e:\n",
    "        print(e)\n",
    "\n",
    "model_name = '../models/pt_regress_v1.h5'"
   ]
  },
  {
   "attachments": {},
   "cell_type": "markdown",
   "metadata": {},
   "source": [
    "# Create training/testing data set"
   ]
  },
  {
   "attachments": {},
   "cell_type": "markdown",
   "metadata": {},
   "source": [
    "The important aspect of $\\tau$ leptons is that a $\\tau$ can decay to neutrinos, and either an electron and a neutrino, a muon and a neutrino, or quarks. Electrons, muons and quarks can be reconstructed in a collider detector. However, the neutrinos cannot. Neutrinos are very weakly interacting and they will just escape the detector. \n",
    "\n",
    "The one constraint we have for neutrinos is what we call missing transverse energy. Missing transverse energy is a constraint that originates from the fact that when we collider protons along a specific axis, the momentum transverse to that axis is conserved, or in other words. \n",
    "\n",
    "$$\n",
    "\\begin{equation}\n",
    "\\sum_{i=1}^{N}\\vec{p_{T,i}} = 0 \\\\\n",
    "\\sum_{i\\neq {\\rm neutrino}}^{N}\\vec{p_{T,i}} + \\sum_{i= {\\rm neutrino}}^{N}\\vec{p_{T,i}} = 0 \\\\\n",
    "\\sum_{i= {\\rm neutrino}}^{N}\\vec{p_{T,i}} = -\\sum_{i\\neq {\\rm neutrino}}^{N}\\vec{p_{T,i}} \\\\\n",
    "\\rm{\\vec{MET}}  = -\\sum_{i\\neq {\\rm neutrino}}^{N}\\vec{p_{T,i}} \\\\\n",
    "\\end{equation}\n",
    "$$\n",
    "\n",
    "This is what we call the MET or missing transverse energy. This is our only constraint on the neutrinos and it gives us a vector in the plane perpendicular to the collision axis along the beam.  \n",
    "\n",
    "Here, instead of training directly for the tau's gen (truth) pT, we want to train for the ratio between the reconstructed pT and the gen pT. This is because the range of pT is so large that it makes training very uneffective. If we train for the ratio, we constrain the output better and the network is more likely to converge. It is also unitless, which means that if there is an invrance against momentum, like lorentz invariance, we can capture it in this quantity  \n",
    "\n",
    "A technical detail here is the fact that the tau gen $p_T$ here does not include the neutrino's $p_T$."
   ]
  },
  {
   "cell_type": "code",
   "execution_count": 2,
   "metadata": {},
   "outputs": [],
   "source": [
    "#You only need to run this once\n",
    "def create_training_data(dir_path, test_index=400000):\n",
    "    '''\n",
    "    test_index: 400000 \n",
    "    All the data before test_index are used for training. And all the data after it is used for testing.\n",
    "    '''\n",
    "    \n",
    "    #Might have to change the version for other ntuple files\n",
    "    data = uproot4.open(dir_path+\"/test_sig_v12_emseed.root\")\n",
    "    \n",
    "    inputs = data['ntuplePupSingle']['tree']['m_inputs'].array()[:test_index]\n",
    "    \n",
    "    truth_pt = data['ntuplePupSingle']['tree']['genpt1'].array()[:test_index]\n",
    "    reco_pt = data['ntuplePupSingle']['tree']['pt'].array()[:test_index]\n",
    "    deltaR = data['ntuplePupSingle']['tree']['gendr1'].array()[:test_index]\n",
    "    eta = data['ntuplePupSingle']['tree']['geneta1'].array()[:test_index]\n",
    "\n",
    "    selection = (reco_pt > 0.) & (abs(deltaR) < 0.4) & (abs(eta) < 2.4)\n",
    "    \n",
    "    #Inputs: pt, eta, phi, particle id(one hot encoded)\n",
    "    X_train = np.nan_to_num(np.asarray(inputs[selection]))\n",
    "    y_train = np.asarray(truth_pt[selection]/reco_pt[selection])\n",
    "    \n",
    "    X_train[abs(X_train) > 1e+9] = 0.\n",
    "\n",
    "    np.save(dir_path+\"/X_train.npy\", X_train)\n",
    "    np.save(dir_path+\"/y_train.npy\", y_train)"
   ]
  },
  {
   "cell_type": "code",
   "execution_count": 3,
   "metadata": {},
   "outputs": [],
   "source": [
    "create_training_data(\"../../ntuples/Jan_25_2023\")"
   ]
  },
  {
   "cell_type": "code",
   "execution_count": 4,
   "metadata": {},
   "outputs": [],
   "source": [
    "X_train = np.load(\"../../ntuples/Jan_25_2023/X_train.npy\")\n",
    "y_train = np.load(\"../../ntuples/Jan_25_2023/y_train.npy\")"
   ]
  },
  {
   "attachments": {},
   "cell_type": "markdown",
   "metadata": {},
   "source": [
    "## Model"
   ]
  },
  {
   "cell_type": "code",
   "execution_count": 5,
   "metadata": {},
   "outputs": [
    {
     "name": "stderr",
     "output_type": "stream",
     "text": [
      "2023-06-27 10:57:23.395999: I tensorflow/core/platform/cpu_feature_guard.cc:193] This TensorFlow binary is optimized with oneAPI Deep Neural Network Library (oneDNN) to use the following CPU instructions in performance-critical operations:  AVX2 AVX512F AVX512_VNNI FMA\n",
      "To enable them in other operations, rebuild TensorFlow with the appropriate compiler flags.\n"
     ]
    }
   ],
   "source": [
    "model = Sequential()\n",
    "\n",
    "model.add(Dense(25,\n",
    "                input_shape=X_train.shape[1:],\n",
    "                activation= 'LeakyReLU'))\n",
    "\n",
    "model.add(Dense(25,\n",
    "                input_shape=X_train.shape[1:],\n",
    "                activation= 'LeakyReLU'))\n",
    "\n",
    "model.add(Dense(10,\n",
    "                input_shape=X_train.shape[1:],\n",
    "                activation= 'LeakyReLU'))\n",
    "\n",
    "model.add(Dense(1))"
   ]
  },
  {
   "cell_type": "code",
   "execution_count": 6,
   "metadata": {},
   "outputs": [
    {
     "name": "stdout",
     "output_type": "stream",
     "text": [
      "Model: \"sequential\"\n",
      "_________________________________________________________________\n",
      " Layer (type)                Output Shape              Param #   \n",
      "=================================================================\n",
      " dense (Dense)               (None, 25)                2025      \n",
      "                                                                 \n",
      " dense_1 (Dense)             (None, 25)                650       \n",
      "                                                                 \n",
      " dense_2 (Dense)             (None, 10)                260       \n",
      "                                                                 \n",
      " dense_3 (Dense)             (None, 1)                 11        \n",
      "                                                                 \n",
      "=================================================================\n",
      "Total params: 2,946\n",
      "Trainable params: 2,946\n",
      "Non-trainable params: 0\n",
      "_________________________________________________________________\n"
     ]
    }
   ],
   "source": [
    "opt = keras.optimizers.Adam()\n",
    "model.compile(optimizer=opt, loss='mean_squared_error')\n",
    "model.summary()"
   ]
  },
  {
   "cell_type": "code",
   "execution_count": 7,
   "metadata": {
    "scrolled": true
   },
   "outputs": [
    {
     "name": "stdout",
     "output_type": "stream",
     "text": [
      "Epoch 1/20\n"
     ]
    },
    {
     "name": "stdout",
     "output_type": "stream",
     "text": [
      "646/646 - 1s - loss: 0.6757 - val_loss: 0.2455 - 1s/epoch - 2ms/step\n",
      "Epoch 2/20\n",
      "646/646 - 0s - loss: 0.2412 - val_loss: 0.2267 - 469ms/epoch - 725us/step\n",
      "Epoch 3/20\n",
      "646/646 - 0s - loss: 0.2208 - val_loss: 0.2030 - 471ms/epoch - 730us/step\n",
      "Epoch 4/20\n",
      "646/646 - 1s - loss: 0.2113 - val_loss: 0.1929 - 504ms/epoch - 780us/step\n",
      "Epoch 5/20\n",
      "646/646 - 0s - loss: 0.2070 - val_loss: 0.1975 - 467ms/epoch - 723us/step\n",
      "Epoch 6/20\n",
      "646/646 - 0s - loss: 0.2058 - val_loss: 0.1954 - 468ms/epoch - 724us/step\n",
      "Epoch 7/20\n",
      "646/646 - 0s - loss: 0.1945 - val_loss: 0.1897 - 462ms/epoch - 715us/step\n",
      "Epoch 8/20\n",
      "646/646 - 0s - loss: 0.1875 - val_loss: 0.1843 - 463ms/epoch - 717us/step\n",
      "Epoch 9/20\n",
      "646/646 - 0s - loss: 0.1845 - val_loss: 0.1787 - 462ms/epoch - 715us/step\n",
      "Epoch 10/20\n",
      "646/646 - 0s - loss: 0.1816 - val_loss: 0.1794 - 460ms/epoch - 712us/step\n",
      "Epoch 11/20\n",
      "646/646 - 0s - loss: 0.1817 - val_loss: 0.1747 - 484ms/epoch - 749us/step\n",
      "Epoch 12/20\n",
      "646/646 - 0s - loss: 0.1791 - val_loss: 0.1765 - 466ms/epoch - 722us/step\n",
      "Epoch 13/20\n",
      "646/646 - 0s - loss: 0.1773 - val_loss: 0.1742 - 463ms/epoch - 717us/step\n",
      "Epoch 14/20\n",
      "646/646 - 0s - loss: 0.1771 - val_loss: 0.1827 - 455ms/epoch - 704us/step\n",
      "Epoch 15/20\n",
      "646/646 - 0s - loss: 0.1740 - val_loss: 0.1806 - 469ms/epoch - 726us/step\n",
      "Epoch 16/20\n",
      "646/646 - 0s - loss: 0.1766 - val_loss: 0.1753 - 476ms/epoch - 737us/step\n",
      "Epoch 17/20\n",
      "646/646 - 0s - loss: 0.1729 - val_loss: 0.1707 - 479ms/epoch - 741us/step\n",
      "Epoch 18/20\n",
      "646/646 - 0s - loss: 0.1729 - val_loss: 0.1748 - 471ms/epoch - 728us/step\n",
      "Epoch 19/20\n",
      "646/646 - 1s - loss: 0.1702 - val_loss: 0.1762 - 516ms/epoch - 799us/step\n",
      "Epoch 20/20\n",
      "646/646 - 0s - loss: 0.1693 - val_loss: 0.1719 - 467ms/epoch - 723us/step\n"
     ]
    }
   ],
   "source": [
    "#Train the network\n",
    "callback = tf.keras.callbacks.EarlyStopping(monitor='val_loss', verbose=1, patience=5)\n",
    "\n",
    "history = model.fit(X_train, y_train,\n",
    "                    epochs=20,\n",
    "                    batch_size=128,\n",
    "                    verbose=2,\n",
    "                    validation_split=0.20,\n",
    "                    callbacks=[callback])"
   ]
  },
  {
   "cell_type": "code",
   "execution_count": 8,
   "metadata": {},
   "outputs": [],
   "source": [
    "#Save the model\n",
    "model.save(model_name)"
   ]
  },
  {
   "attachments": {},
   "cell_type": "markdown",
   "metadata": {},
   "source": [
    "-----"
   ]
  },
  {
   "attachments": {},
   "cell_type": "markdown",
   "metadata": {},
   "source": [
    "## Evaluate the model "
   ]
  },
  {
   "attachments": {},
   "cell_type": "markdown",
   "metadata": {},
   "source": [
    "So now that we trained for the ratio, let's plot it on the testing set!"
   ]
  },
  {
   "attachments": {},
   "cell_type": "markdown",
   "metadata": {},
   "source": [
    "**Now compare the truth pT distribution and the predicted distribution (just multiply it by the ratio)**"
   ]
  },
  {
   "cell_type": "code",
   "execution_count": 9,
   "metadata": {},
   "outputs": [],
   "source": [
    "#Load the pts and then plot the actual distributions"
   ]
  },
  {
   "cell_type": "code",
   "execution_count": 10,
   "metadata": {},
   "outputs": [],
   "source": [
    "def load_and_predict_test(dir_path, model, test_index=400000):\n",
    "    \n",
    "    #Might have to change the version for other ntuple files\n",
    "    data = uproot4.open(dir_path+\"/test_sig_v12_emseed.root\")\n",
    "    inputs = data['ntuplePupSingle']['tree']['m_inputs'].array()[test_index:]\n",
    "    \n",
    "    truth_pt = data['ntuplePupSingle']['tree']['genpt1'].array()[test_index:]\n",
    "    reco_pt = data['ntuplePupSingle']['tree']['pt'].array()[test_index:]\n",
    "    deltaR = data['ntuplePupSingle']['tree']['gendr1'].array()[test_index:]\n",
    "    eta = data['ntuplePupSingle']['tree']['geneta1'].array()[test_index:]\n",
    "\n",
    "    selection = (reco_pt > 0.) & (abs(deltaR) < 0.4) & (abs(eta) < 2.4)\n",
    "    \n",
    "    truth_pt_selected = np.asarray(truth_pt[selection])\n",
    "    reco_pt_selected = np.asarray(reco_pt[selection])\n",
    "    \n",
    "    X_test = np.asarray(inputs[selection])\n",
    "    y_pred = model.predict(X_test).flatten()\n",
    "    pred_pt = np.multiply(reco_pt_selected, y_pred)\n",
    "    \n",
    "    #Plot the pts\n",
    "    plt.hist(truth_pt_selected, bins = 20, range = (0,300), density=True, histtype = 'step', label = 'Truth', linewidth=5)\n",
    "    plt.hist(reco_pt_selected, bins = 20, range = (0,300), density=True, histtype = 'step', label = 'Reconstructed', linewidth=5)\n",
    "    plt.hist(pred_pt, bins = 20, range = (0,300), density=True, histtype = 'step', label = 'NN Predicted', linewidth=5)\n",
    "\n",
    "    plt.xlabel(r'$p_T$ [GeV]')\n",
    "    plt.ylabel('a.u.')\n",
    "    plt.legend()  \n",
    "    plt.show()"
   ]
  },
  {
   "cell_type": "code",
   "execution_count": 11,
   "metadata": {},
   "outputs": [
    {
     "name": "stdout",
     "output_type": "stream",
     "text": [
      "2043/2043 [==============================] - 1s 456us/step\n"
     ]
    },
    {
     "name": "stderr",
     "output_type": "stream",
     "text": [
      "findfont: Font family ['cursive'] not found. Falling back to DejaVu Sans.\n"
     ]
    },
    {
     "data": {
      "image/png": "[encoded data removed]",
      "text/plain": [
       "<Figure size 1000x1000 with 1 Axes>"
      ]
     },
     "metadata": {},
     "output_type": "display_data"
    }
   ],
   "source": [
    "load_and_predict_test(\"../../ntuples/Jan_25_2023\", model)"
   ]
  },
  {
   "cell_type": "code",
   "execution_count": 21,
   "metadata": {},
   "outputs": [],
   "source": [
    "# Looking nice!! "
   ]
  }
 ],
 "metadata": {
  "kernelspec": {
   "display_name": "Python 3 (ipykernel)",
   "language": "python",
   "name": "python3"
  },
  "language_info": {
   "codemirror_mode": {
    "name": "ipython",
    "version": 3
   },
   "file_extension": ".py",
   "mimetype": "text/x-python",
   "name": "python",
   "nbconvert_exporter": "python",
   "pygments_lexer": "ipython3",
   "version": "3.8.15"
  }
 },
 "nbformat": 4,
 "nbformat_minor": 2
}
